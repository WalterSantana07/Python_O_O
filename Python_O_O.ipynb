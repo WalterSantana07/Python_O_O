{
  "nbformat": 4,
  "nbformat_minor": 0,
  "metadata": {
    "colab": {
      "provenance": [],
      "authorship_tag": "ABX9TyPK+9LlLJUFUFPYOSztP6jC",
      "include_colab_link": true
    },
    "kernelspec": {
      "name": "python3",
      "display_name": "Python 3"
    },
    "language_info": {
      "name": "python"
    }
  },
  "cells": [
    {
      "cell_type": "markdown",
      "metadata": {
        "id": "view-in-github",
        "colab_type": "text"
      },
      "source": [
        "<a href=\"https://colab.research.google.com/github/WalterSantana07/Python_O_O/blob/main/Python_O_O.ipynb\" target=\"_parent\"><img src=\"https://colab.research.google.com/assets/colab-badge.svg\" alt=\"Open In Colab\"/></a>"
      ]
    },
    {
      "cell_type": "code",
      "source": [
        "#Criando as Classes e Funções!!!\n",
        "class Carro:\n",
        "    def __init__(self, marca, modelo, ano, cor):\n",
        "        self.marca = marca\n",
        "        self.modelo = modelo\n",
        "        self.ano = ano\n",
        "        self.cor = cor\n",
        "\n",
        "    def locomover(self):\n",
        "        print(f\"O {self.marca}, modelo {self.modelo}, ano {self.ano}, cor {self.cor} está trafegando na BR077.\")\n",
        "\n",
        "class Aviao:\n",
        "    def __init__(self, marca, modelo, ano, cor):\n",
        "        self.marca = marca\n",
        "        self.modelo = modelo\n",
        "        self.ano = ano\n",
        "        self.cor = cor\n",
        "\n",
        "    def locomover(self):\n",
        "        print(f\"O {self.marca}, modelo {self.modelo}, ano {self.ano}, cor {self.cor} está pousando no Aeroporto de Salvador Bahia.\")\n",
        "\n",
        "class Moto:\n",
        "    def __init__(self, marca, modelo, ano, cor):\n",
        "        self.marca = marca\n",
        "        self.modelo = modelo\n",
        "        self.ano = ano\n",
        "        self.cor = cor\n",
        "\n",
        "    def locomover(self):\n",
        "        print(f\"A {self.marca}, modelo {self.modelo}, ano {self.ano}, cor {self.cor} está trefegando na Rodovia 101.\")\n",
        "\n",
        "# Instanciando objetos!!\n",
        "meu_carro = Carro(\"Chevrolet\" ,\"Cruze\" ,2022 ,\"Preto\")\n",
        "meu_carro2 = Carro(\"Chevrolet\" ,\"Marea\", 2022 ,\"Preto\")\n",
        "meu_carro3 = Carro(\"Chevrolet\" ,\"Cobalt\" ,2016 ,\"Branco\")\n",
        "meu_aviao = Aviao(\"Boing\" ,\"B777\" ,\"2077\" ,\"Branco\")\n",
        "minha_moto = Moto(\"Honda\" ,\"CB 600\" ,\"2022\" ,\"Verde\")\n",
        "minha_moto2 = Moto(\"Suzuki\" ,\"Ninja\" ,\"2014\" ,\"Preta\")\n",
        "\n",
        "# Fazer o objeto se locomover através do Construtor!!!\n",
        "meu_carro.locomover()\n",
        "meu_carro2.locomover()\n",
        "meu_carro3.locomover()\n",
        "meu_aviao.locomover()\n",
        "minha_moto.locomover()\n",
        "minha_moto2.locomover()\n",
        "\n"
      ],
      "metadata": {
        "colab": {
          "base_uri": "https://localhost:8080/"
        },
        "id": "e4xDpIkssIEe",
        "outputId": "434ef471-496c-4d5d-a273-c54864c802e1"
      },
      "execution_count": 40,
      "outputs": [
        {
          "output_type": "stream",
          "name": "stdout",
          "text": [
            "O Chevrolet, modelo Cruze, ano 2022, cor Preto está trafegando na BR077.\n",
            "O Chevrolet, modelo Marea, ano 2022, cor Preto está trafegando na BR077.\n",
            "O Chevrolet, modelo Cobalt, ano 2016, cor Branco está trafegando na BR077.\n",
            "O Boing, modelo B777, ano 2077, cor Branco está pousando no Aeroporto de Salvador Bahia.\n",
            "A Honda, modelo CB 600, ano 2022, cor Verde está trefegando na Rodovia 101.\n",
            "A Suzuki, modelo Ninja, ano 2014, cor Preta está trefegando na Rodovia 101.\n"
          ]
        }
      ]
    }
  ]
}